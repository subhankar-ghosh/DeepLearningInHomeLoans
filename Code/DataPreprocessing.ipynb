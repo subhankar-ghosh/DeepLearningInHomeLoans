{
 "cells": [
  {
   "cell_type": "code",
   "execution_count": 1,
   "metadata": {},
   "outputs": [],
   "source": [
    "#\n",
    "import numpy as np\n",
    "import os\n",
    "import pandas as pd\n",
    "import pickle\n",
    "from sklearn import preprocessing\n",
    "import time"
   ]
  },
  {
   "cell_type": "code",
   "execution_count": 12,
   "metadata": {},
   "outputs": [
    {
     "name": "stderr",
     "output_type": "stream",
     "text": [
      "C:\\Users\\subha\\AppData\\Local\\conda\\conda\\envs\\pytorch\\lib\\site-packages\\sklearn\\utils\\__init__.py:4: DeprecationWarning: Using or importing the ABCs from 'collections' instead of from 'collections.abc' is deprecated, and in 3.8 it will stop working\n",
      "  from collections import Sequence\n"
     ]
    }
   ],
   "source": []
  },
  {
   "cell_type": "code",
   "execution_count": 9,
   "metadata": {},
   "outputs": [],
   "source": [
    "#\n",
    "pd.set_option('display.max_columns', 500)\n",
    "pd.set_option('display.max_rows', 500)"
   ]
  },
  {
   "cell_type": "code",
   "execution_count": 4,
   "metadata": {},
   "outputs": [],
   "source": [
    "#\n",
    "data_folder = 'D:\\GitHub\\IndependentStudy\\Data\\historical_data1_Q12005'"
   ]
  },
  {
   "cell_type": "code",
   "execution_count": 8,
   "metadata": {},
   "outputs": [],
   "source": [
    "#\n",
    "loan_dtypes = {'credit_score': np.int64, 'first_payment_date': np.int64, 'first_time': object, 'mat_date': np.int64, 'msa':np.float64, 'mortgage_insurance':np.float64, \n",
    "              'num_units':np.int64, 'occupancy':object, 'CLTV': np.float64, 'DTI': np.float64, 'UPB': np.float64, 'LTV': np.float64, 'original_interest_rate':np.float64,\n",
    "              'channel': object, 'PPM': object, 'product_type': object, 'state': object, 'property_type': object, 'postal_code': np.float64, 'loan_number': object, \n",
    "              'purpose': object, 'original_loan_term': np.float64, 'num_borrowers': np.int64, 'seller': object, 'servicer': object, 'super_conforming_flag': object, 'preharp_seq_num': object}\n",
    "loan_name = ['credit_score', 'first_payment_date', 'first_time', 'mat_date', 'msa', 'mortgage_insurance', 'num_units', 'occupancy', 'CLTV', 'DTI', 'UPB', 'LTV', 'original_interest_rate', 'channel', 'PPM', 'product_type', 'state', 'property_type', 'postal_code', 'loan_number','purpose', 'original_loan_term', 'num_borrowers', 'seller', 'servicer', 'super_conforming_flag', 'preharp_seq_num']"
   ]
  },
  {
   "cell_type": "code",
   "execution_count": 9,
   "metadata": {},
   "outputs": [],
   "source": [
    "#\n",
    "monthly_dtypes = {'loan_number': object, 'monthly_period': np.float64, 'current_UPB': np.float64, 'current_status': object, 'loan_age': np.float64,\n",
    "                 'remaining_month': np.float64, 'repurchase_flag': object, 'modification_flag': object, 'zero_balance': np.float64, 'zero_balance_date': np.float64,\n",
    "                 'current_interest_rate': np.float64, 'current_deferred_UPB': np.float64, 'DDLPI': np.float64, 'mi_recovery': np.float64,\n",
    "                 'net_sales_procedees': object, 'non_mi_recovery': np.float64, 'expenses': np.float64, 'legal_cost': np.float64, 'maintainance_cost': np.float64,\n",
    "                 'tax': np.float64, 'misc_cost': np.float64, 'actual_loss': np.float64, 'modification_cost': np.float64, 'step_modification_flag': object, 'deferred_payment_mod': object}\n",
    "\n",
    "monthly_name = ['loan_number', 'monthly_period', 'current_UPB', 'current_status', 'loan_age',\n",
    "                 'remaining_month', 'repurchase_flag', 'modification_flag', 'zero_balance', 'zero_balance_date',\n",
    "                 'current_interest_rate', 'current_deferred_UPB', 'DDLPI', 'mi_recovery',\n",
    "                 'net_sales_procedees', 'non_mi_recovery', 'expenses', 'legal_cost', 'maintainance_cost',\n",
    "                 'tax', 'misc_cost', 'actual_loss', 'modification_cost', 'step_modification_flag', 'deferred_payment_mod']"
   ]
  },
  {
   "cell_type": "code",
   "execution_count": 7,
   "metadata": {},
   "outputs": [
    {
     "name": "stdout",
     "output_type": "stream",
     "text": [
      "Wall time: 1.31 s\n",
      "Wall time: 1min 12s\n"
     ]
    }
   ],
   "source": [
    "%time loan_data = pd.read_pickle(os.path.join(data_folder, 'loan_data1_time_Q12005_np.pickle'))\n",
    "%time monthly_data = pd.read_pickle(os.path.join(data_folder, 'monthly_data1_time_Q12005_np.pickle'))"
   ]
  },
  {
   "cell_type": "code",
   "execution_count": 29,
   "metadata": {},
   "outputs": [
    {
     "name": "stdout",
     "output_type": "stream",
     "text": [
      "Wall time: 9.98 s\n"
     ]
    }
   ],
   "source": [
    "#\n",
    "%time loan_data = pd.read_csv(os.path.join(data_folder, 'historical_data1_Q12005.txt'), delimiter='|', header = None, dtype=loan_dtypes, names=loan_name)\n",
    "%time monthly_data = pd.read_csv(os.path.join(data_folder, 'historical_data1_time_Q12005.txt'), delimiter='|', header = None, dtype=monthly_dtypes, names=monthly_name)"
   ]
  },
  {
   "cell_type": "markdown",
   "metadata": {},
   "source": [
    "### One-hot encoding"
   ]
  },
  {
   "cell_type": "code",
   "execution_count": 10,
   "metadata": {},
   "outputs": [],
   "source": [
    "#\n",
    "loan_one_hot_columns = ['first_time', 'occupancy', 'channel', 'PPM', 'product_type', 'property_type', 'purpose', 'seller', 'servicer', 'super_conforming_flag', 'preharp_seq_num']\n",
    "\n",
    "monthly_one_hot_columns = ['repurchase_flag', 'modification_flag', 'step_modification_flag', 'deferred_payment_mod']"
   ]
  },
  {
   "cell_type": "code",
   "execution_count": 31,
   "metadata": {},
   "outputs": [
    {
     "name": "stdout",
     "output_type": "stream",
     "text": [
      "Wall time: 1.76 s\n"
     ]
    }
   ],
   "source": [
    "#\n",
    "%time loan_data_temp = pd.get_dummies(loan_data, columns=loan_one_hot_columns)"
   ]
  },
  {
   "cell_type": "code",
   "execution_count": 9,
   "metadata": {},
   "outputs": [
    {
     "name": "stdout",
     "output_type": "stream",
     "text": [
      "Wall time: 1min 7s\n"
     ]
    }
   ],
   "source": [
    "#\n",
    "%time monthly_data_temp = pd.get_dummies(monthly_data, columns=monthly_one_hot_columns)"
   ]
  },
  {
   "cell_type": "code",
   "execution_count": 38,
   "metadata": {},
   "outputs": [
    {
     "name": "stdout",
     "output_type": "stream",
     "text": [
      "(351634, 69)\n",
      "(26391679, 29)\n"
     ]
    }
   ],
   "source": [
    "#\n",
    "print(loan_data.shape)\n",
    "print(monthly_data.shape)"
   ]
  },
  {
   "cell_type": "markdown",
   "metadata": {},
   "source": [
    "### Creating lookup"
   ]
  },
  {
   "cell_type": "code",
   "execution_count": null,
   "metadata": {},
   "outputs": [],
   "source": [
    "lookup = monthly_data[['loan_number']].groupby(['loan_number']).size().reset_index(name='counts')"
   ]
  },
  {
   "cell_type": "code",
   "execution_count": null,
   "metadata": {},
   "outputs": [],
   "source": [
    "lookup_table = []\n",
    "curr = 0\n",
    "for ind, r in lookup.iterrows():\n",
    "    lookup_table.append((r[0], curr, curr+r[1]))\n",
    "    curr = curr+r[1]"
   ]
  },
  {
   "cell_type": "code",
   "execution_count": null,
   "metadata": {},
   "outputs": [],
   "source": [
    "lookup_table = np.array(lookup_table)"
   ]
  },
  {
   "cell_type": "markdown",
   "metadata": {},
   "source": [
    "### Dividing into 100 chunks loans, joining, creating lookup and saving"
   ]
  },
  {
   "cell_type": "code",
   "execution_count": 41,
   "metadata": {},
   "outputs": [],
   "source": [
    "#\n",
    "num_chunk = 100\n",
    "chunk_size = int(loan_data.shape[0] / 100)"
   ]
  },
  {
   "cell_type": "code",
   "execution_count": 14,
   "metadata": {},
   "outputs": [
    {
     "name": "stdout",
     "output_type": "stream",
     "text": [
      "../Data\n",
      "['2014', '2015']\n",
      "../Data/2014\n",
      "['historical_data1_Q12014', 'historical_data1_Q22014', 'historical_data1_Q32014', 'historical_data1_Q42014']\n",
      "../Data/2014/historical_data1_Q12014\n",
      "[]\n"
     ]
    }
   ],
   "source": [
    "rootDir = '../Data'\n",
    "flag = False\n",
    "for dirName, subdirList, fileList in os.walk(rootDir):\n",
    "    print(dirName)\n",
    "    print(subdirList)\n",
    "    for f in fileList:\n",
    "        if 'time' in f:\n",
    "            monthly_data = pd.read_csv(os.path.join(dirName, f), delimiter='|', header = None, dtype=monthly_dtypes, names=monthly_name)\n",
    "        else:\n",
    "            loan_data = pd.read_csv(os.path.join(dirName, f), delimiter='|', header = None, dtype=loan_dtypes, names=loan_name)\n",
    "            flag = True\n",
    "    if flag:\n",
    "        break"
   ]
  },
  {
   "cell_type": "code",
   "execution_count": 16,
   "metadata": {},
   "outputs": [
    {
     "data": {
      "text/html": [
       "<div>\n",
       "<style scoped>\n",
       "    .dataframe tbody tr th:only-of-type {\n",
       "        vertical-align: middle;\n",
       "    }\n",
       "\n",
       "    .dataframe tbody tr th {\n",
       "        vertical-align: top;\n",
       "    }\n",
       "\n",
       "    .dataframe thead th {\n",
       "        text-align: right;\n",
       "    }\n",
       "</style>\n",
       "<table border=\"1\" class=\"dataframe\">\n",
       "  <thead>\n",
       "    <tr style=\"text-align: right;\">\n",
       "      <th></th>\n",
       "      <th>credit_score</th>\n",
       "      <th>first_payment_date</th>\n",
       "      <th>first_time</th>\n",
       "      <th>mat_date</th>\n",
       "      <th>msa</th>\n",
       "      <th>mortgage_insurance</th>\n",
       "      <th>num_units</th>\n",
       "      <th>occupancy</th>\n",
       "      <th>CLTV</th>\n",
       "      <th>DTI</th>\n",
       "      <th>...</th>\n",
       "      <th>property_type</th>\n",
       "      <th>postal_code</th>\n",
       "      <th>loan_number</th>\n",
       "      <th>purpose</th>\n",
       "      <th>original_loan_term</th>\n",
       "      <th>num_borrowers</th>\n",
       "      <th>seller</th>\n",
       "      <th>servicer</th>\n",
       "      <th>super_conforming_flag</th>\n",
       "      <th>preharp_seq_num</th>\n",
       "    </tr>\n",
       "  </thead>\n",
       "  <tbody>\n",
       "    <tr>\n",
       "      <th>0</th>\n",
       "      <td>717</td>\n",
       "      <td>201404</td>\n",
       "      <td>9</td>\n",
       "      <td>204403</td>\n",
       "      <td>39300.0</td>\n",
       "      <td>0.0</td>\n",
       "      <td>1</td>\n",
       "      <td>I</td>\n",
       "      <td>77.0</td>\n",
       "      <td>41.0</td>\n",
       "      <td>...</td>\n",
       "      <td>SF</td>\n",
       "      <td>2800.0</td>\n",
       "      <td>F114Q1000001</td>\n",
       "      <td>P</td>\n",
       "      <td>360.0</td>\n",
       "      <td>2</td>\n",
       "      <td>Other sellers</td>\n",
       "      <td>LAKEVIEWLOANSERVICIN</td>\n",
       "      <td>NaN</td>\n",
       "      <td>NaN</td>\n",
       "    </tr>\n",
       "    <tr>\n",
       "      <th>1</th>\n",
       "      <td>813</td>\n",
       "      <td>201405</td>\n",
       "      <td>Y</td>\n",
       "      <td>204404</td>\n",
       "      <td>19780.0</td>\n",
       "      <td>30.0</td>\n",
       "      <td>1</td>\n",
       "      <td>P</td>\n",
       "      <td>95.0</td>\n",
       "      <td>32.0</td>\n",
       "      <td>...</td>\n",
       "      <td>SF</td>\n",
       "      <td>50300.0</td>\n",
       "      <td>F114Q1000002</td>\n",
       "      <td>P</td>\n",
       "      <td>360.0</td>\n",
       "      <td>1</td>\n",
       "      <td>Other sellers</td>\n",
       "      <td>Other servicers</td>\n",
       "      <td>NaN</td>\n",
       "      <td>NaN</td>\n",
       "    </tr>\n",
       "    <tr>\n",
       "      <th>2</th>\n",
       "      <td>799</td>\n",
       "      <td>201403</td>\n",
       "      <td>9</td>\n",
       "      <td>204402</td>\n",
       "      <td>NaN</td>\n",
       "      <td>0.0</td>\n",
       "      <td>1</td>\n",
       "      <td>P</td>\n",
       "      <td>79.0</td>\n",
       "      <td>37.0</td>\n",
       "      <td>...</td>\n",
       "      <td>SF</td>\n",
       "      <td>45600.0</td>\n",
       "      <td>F114Q1000003</td>\n",
       "      <td>C</td>\n",
       "      <td>360.0</td>\n",
       "      <td>1</td>\n",
       "      <td>Other sellers</td>\n",
       "      <td>Other servicers</td>\n",
       "      <td>NaN</td>\n",
       "      <td>NaN</td>\n",
       "    </tr>\n",
       "    <tr>\n",
       "      <th>3</th>\n",
       "      <td>742</td>\n",
       "      <td>201403</td>\n",
       "      <td>9</td>\n",
       "      <td>204402</td>\n",
       "      <td>NaN</td>\n",
       "      <td>0.0</td>\n",
       "      <td>1</td>\n",
       "      <td>P</td>\n",
       "      <td>78.0</td>\n",
       "      <td>45.0</td>\n",
       "      <td>...</td>\n",
       "      <td>SF</td>\n",
       "      <td>42100.0</td>\n",
       "      <td>F114Q1000004</td>\n",
       "      <td>C</td>\n",
       "      <td>360.0</td>\n",
       "      <td>1</td>\n",
       "      <td>Other sellers</td>\n",
       "      <td>Other servicers</td>\n",
       "      <td>NaN</td>\n",
       "      <td>NaN</td>\n",
       "    </tr>\n",
       "    <tr>\n",
       "      <th>4</th>\n",
       "      <td>725</td>\n",
       "      <td>201403</td>\n",
       "      <td>9</td>\n",
       "      <td>204402</td>\n",
       "      <td>17860.0</td>\n",
       "      <td>0.0</td>\n",
       "      <td>1</td>\n",
       "      <td>P</td>\n",
       "      <td>80.0</td>\n",
       "      <td>20.0</td>\n",
       "      <td>...</td>\n",
       "      <td>SF</td>\n",
       "      <td>65200.0</td>\n",
       "      <td>F114Q1000005</td>\n",
       "      <td>N</td>\n",
       "      <td>360.0</td>\n",
       "      <td>2</td>\n",
       "      <td>Other sellers</td>\n",
       "      <td>PNCBANK,NATL</td>\n",
       "      <td>NaN</td>\n",
       "      <td>NaN</td>\n",
       "    </tr>\n",
       "  </tbody>\n",
       "</table>\n",
       "<p>5 rows × 27 columns</p>\n",
       "</div>"
      ],
      "text/plain": [
       "   credit_score  first_payment_date first_time  mat_date      msa  \\\n",
       "0           717              201404          9    204403  39300.0   \n",
       "1           813              201405          Y    204404  19780.0   \n",
       "2           799              201403          9    204402      NaN   \n",
       "3           742              201403          9    204402      NaN   \n",
       "4           725              201403          9    204402  17860.0   \n",
       "\n",
       "   mortgage_insurance  num_units occupancy  CLTV   DTI       ...        \\\n",
       "0                 0.0          1         I  77.0  41.0       ...         \n",
       "1                30.0          1         P  95.0  32.0       ...         \n",
       "2                 0.0          1         P  79.0  37.0       ...         \n",
       "3                 0.0          1         P  78.0  45.0       ...         \n",
       "4                 0.0          1         P  80.0  20.0       ...         \n",
       "\n",
       "   property_type  postal_code   loan_number purpose original_loan_term  \\\n",
       "0             SF       2800.0  F114Q1000001       P              360.0   \n",
       "1             SF      50300.0  F114Q1000002       P              360.0   \n",
       "2             SF      45600.0  F114Q1000003       C              360.0   \n",
       "3             SF      42100.0  F114Q1000004       C              360.0   \n",
       "4             SF      65200.0  F114Q1000005       N              360.0   \n",
       "\n",
       "  num_borrowers         seller              servicer  super_conforming_flag  \\\n",
       "0             2  Other sellers  LAKEVIEWLOANSERVICIN                    NaN   \n",
       "1             1  Other sellers       Other servicers                    NaN   \n",
       "2             1  Other sellers       Other servicers                    NaN   \n",
       "3             1  Other sellers       Other servicers                    NaN   \n",
       "4             2  Other sellers          PNCBANK,NATL                    NaN   \n",
       "\n",
       "  preharp_seq_num  \n",
       "0             NaN  \n",
       "1             NaN  \n",
       "2             NaN  \n",
       "3             NaN  \n",
       "4             NaN  \n",
       "\n",
       "[5 rows x 27 columns]"
      ]
     },
     "execution_count": 16,
     "metadata": {},
     "output_type": "execute_result"
    }
   ],
   "source": [
    "loan_data.head()"
   ]
  },
  {
   "cell_type": "code",
   "execution_count": 17,
   "metadata": {},
   "outputs": [
    {
     "data": {
      "text/plain": [
       "[['we', 4, 6], ['tr', 5, 1]]"
      ]
     },
     "execution_count": 17,
     "metadata": {},
     "output_type": "execute_result"
    }
   ],
   "source": [
    "l = [['we', 4, 6], ['tr', 5, 1]]\n",
    "l"
   ]
  },
  {
   "cell_type": "code",
   "execution_count": 18,
   "metadata": {},
   "outputs": [
    {
     "data": {
      "text/html": [
       "<div>\n",
       "<style scoped>\n",
       "    .dataframe tbody tr th:only-of-type {\n",
       "        vertical-align: middle;\n",
       "    }\n",
       "\n",
       "    .dataframe tbody tr th {\n",
       "        vertical-align: top;\n",
       "    }\n",
       "\n",
       "    .dataframe thead th {\n",
       "        text-align: right;\n",
       "    }\n",
       "</style>\n",
       "<table border=\"1\" class=\"dataframe\">\n",
       "  <thead>\n",
       "    <tr style=\"text-align: right;\">\n",
       "      <th></th>\n",
       "      <th>0</th>\n",
       "      <th>1</th>\n",
       "      <th>2</th>\n",
       "    </tr>\n",
       "  </thead>\n",
       "  <tbody>\n",
       "    <tr>\n",
       "      <th>0</th>\n",
       "      <td>we</td>\n",
       "      <td>4</td>\n",
       "      <td>6</td>\n",
       "    </tr>\n",
       "    <tr>\n",
       "      <th>1</th>\n",
       "      <td>tr</td>\n",
       "      <td>5</td>\n",
       "      <td>1</td>\n",
       "    </tr>\n",
       "  </tbody>\n",
       "</table>\n",
       "</div>"
      ],
      "text/plain": [
       "    0  1  2\n",
       "0  we  4  6\n",
       "1  tr  5  1"
      ]
     },
     "execution_count": 18,
     "metadata": {},
     "output_type": "execute_result"
    }
   ],
   "source": [
    "pd.DataFrame(l)"
   ]
  },
  {
   "cell_type": "code",
   "execution_count": 43,
   "metadata": {},
   "outputs": [
    {
     "name": "stdout",
     "output_type": "stream",
     "text": [
      "1.139484167098999\n",
      "0.08643150329589844\n",
      "1.1762776374816895\n",
      "0.05512237548828125\n",
      "0.8045287132263184\n",
      "0.032903432846069336\n",
      "0.8777880668640137\n",
      "0.05741119384765625\n",
      "1.1112720966339111\n",
      "0.04189300537109375\n",
      "0.7760803699493408\n",
      "0.051168203353881836\n",
      "1.1109113693237305\n",
      "0.0359036922454834\n",
      "0.5811624526977539\n",
      "0.02692580223083496\n",
      "1.0741286277770996\n",
      "0.05584287643432617\n",
      "0.7370274066925049\n",
      "0.07081246376037598\n",
      "1.068134069442749\n",
      "0.0458829402923584\n",
      "1.0093011856079102\n",
      "0.06781625747680664\n",
      "1.1080400943756104\n",
      "0.04787302017211914\n",
      "1.1120247840881348\n",
      "0.024933338165283203\n",
      "0.9813776016235352\n",
      "0.031917572021484375\n",
      "1.6785097122192383\n",
      "0.03590512275695801\n",
      "0.8028531074523926\n",
      "0.03390812873840332\n",
      "1.0761139392852783\n",
      "0.08277153968811035\n",
      "0.8477420806884766\n",
      "0.0648653507232666\n",
      "0.9155495166778564\n",
      "0.016959667205810547\n",
      "1.2317054271697998\n",
      "0.03989410400390625\n",
      "1.2785792350769043\n",
      "0.04089188575744629\n",
      "0.8675594329833984\n",
      "0.03986525535583496\n",
      "0.6690754890441895\n",
      "0.06087851524353027\n",
      "0.7320425510406494\n",
      "0.06682372093200684\n",
      "1.1047418117523193\n",
      "0.039206743240356445\n",
      "1.19879150390625\n",
      "0.14760541915893555\n",
      "1.5203149318695068\n",
      "0.055145978927612305\n",
      "0.8947632312774658\n",
      "0.18760299682617188\n",
      "1.345815896987915\n",
      "0.03818798065185547\n",
      "1.244338035583496\n",
      "0.05485367774963379\n",
      "0.9589684009552002\n",
      "0.07381033897399902\n",
      "1.3156373500823975\n",
      "0.07081198692321777\n",
      "1.1624469757080078\n",
      "0.05704855918884277\n",
      "1.231938362121582\n",
      "0.08120393753051758\n",
      "1.3185882568359375\n",
      "0.04584360122680664\n",
      "1.275517463684082\n",
      "0.09877228736877441\n",
      "1.1270558834075928\n",
      "0.12765884399414062\n",
      "1.1654138565063477\n",
      "0.1400284767150879\n",
      "0.9076159000396729\n",
      "0.05185413360595703\n",
      "1.1484904289245605\n",
      "0.1136929988861084\n",
      "0.7993414402008057\n",
      "0.0588223934173584\n",
      "1.1552937030792236\n",
      "0.06084108352661133\n",
      "1.266263484954834\n",
      "0.06481432914733887\n",
      "1.1045973300933838\n",
      "0.05034303665161133\n",
      "0.7271714210510254\n",
      "0.0751333236694336\n",
      "0.8131687641143799\n",
      "0.05284762382507324\n",
      "1.1639204025268555\n",
      "0.04288530349731445\n",
      "1.2217094898223877\n",
      "0.03789496421813965\n",
      "0.8580448627471924\n",
      "0.03191542625427246\n",
      "1.2117252349853516\n",
      "0.059841156005859375\n",
      "1.321772575378418\n",
      "0.055951833724975586\n",
      "0.8274240493774414\n",
      "0.10459113121032715\n",
      "1.100090503692627\n",
      "0.07978630065917969\n",
      "0.8204004764556885\n",
      "0.06395244598388672\n",
      "0.5619969367980957\n",
      "0.031915903091430664\n",
      "1.2217369079589844\n",
      "0.05880570411682129\n",
      "0.7988572120666504\n",
      "0.11671924591064453\n",
      "1.1110255718231201\n",
      "0.04787278175354004\n",
      "0.8277785778045654\n",
      "0.141618013381958\n",
      "1.2244009971618652\n",
      "0.0747992992401123\n",
      "1.152888298034668\n",
      "0.1307375431060791\n",
      "0.9443585872650146\n",
      "0.07478857040405273\n",
      "0.8347439765930176\n",
      "0.15241432189941406\n",
      "1.11027193069458\n",
      "0.07879638671875\n",
      "1.1465508937835693\n",
      "0.09849977493286133\n",
      "1.1828041076660156\n",
      "0.12659883499145508\n",
      "0.8126773834228516\n",
      "0.06252646446228027\n",
      "1.2152292728424072\n",
      "0.07426190376281738\n",
      "1.2588300704956055\n",
      "0.06685304641723633\n",
      "0.740175724029541\n",
      "0.07390642166137695\n",
      "1.1664679050445557\n",
      "0.06995606422424316\n",
      "0.8338723182678223\n",
      "0.06926655769348145\n",
      "0.9085731506347656\n",
      "0.06482577323913574\n",
      "1.286384105682373\n",
      "0.08502578735351562\n",
      "1.3706738948822021\n",
      "0.09666037559509277\n",
      "1.221632957458496\n",
      "0.04786252975463867\n",
      "0.8400669097900391\n",
      "0.12109518051147461\n",
      "1.2339146137237549\n",
      "0.05701017379760742\n",
      "0.8590226173400879\n",
      "0.05668306350708008\n",
      "0.742520809173584\n",
      "0.047193050384521484\n",
      "0.8882162570953369\n",
      "0.05385565757751465\n",
      "0.8828113079071045\n",
      "0.0518956184387207\n",
      "0.7604210376739502\n",
      "0.14981293678283691\n",
      "0.9012913703918457\n",
      "0.05878806114196777\n",
      "1.2029175758361816\n",
      "0.12729763984680176\n",
      "1.1442651748657227\n",
      "0.06381011009216309\n",
      "1.2366917133331299\n",
      "0.07978105545043945\n",
      "1.178948163986206\n",
      "0.046648263931274414\n",
      "1.3405685424804688\n",
      "0.05101752281188965\n",
      "1.1360716819763184\n",
      "0.056188344955444336\n",
      "1.0877690315246582\n",
      "0.0631105899810791\n",
      "0.86629319190979\n",
      "0.05465579032897949\n",
      "0.80810546875\n",
      "0.10814809799194336\n",
      "0.7982981204986572\n",
      "0.11925482749938965\n",
      "0.8178763389587402\n",
      "0.09627866744995117\n",
      "0.9126636981964111\n",
      "0.07061147689819336\n",
      "0.7625887393951416\n",
      "0.06334447860717773\n",
      "0.8452839851379395\n",
      "0.0632009506225586\n",
      "0.7115068435668945\n",
      "0.0693514347076416\n"
     ]
    }
   ],
   "source": [
    "#\n",
    "group_name = 'Q1/'\n",
    "for i in range(0, num_chunk):\n",
    "    curr_loans = loan_data.iloc[i*chunk_size:min((i+1)*chunk_size, loan_data.shape[0]), :]\n",
    "    df = pd.merge(curr_loans, monthly_data, on='loan_number')\n",
    "    \n",
    "    # Create Lookup\n",
    "    lookup = df[['loan_number']].groupby(['loan_number']).size().reset_index(name='counts')\n",
    "    lookup_table = []\n",
    "    curr = 0\n",
    "    for ind, r in lookup.iterrows():\n",
    "        lookup_table.append((r[0], curr, curr+r[1]))\n",
    "        curr = curr+r[1]\n",
    "    lookup_table = pd.DataFrame(np.array(lookup_table))\n",
    "    \n",
    "    df.to_hdf(os.path.join(data_folder, 'Loan_Data.h5'), key=group_name+'X_'+str(i), format='t', complevel=9)\n",
    "    lookup_table.to_hdf(os.path.join(data_folder, 'Loan_data.h5'), key=group_name+'lookup_'+str(i), format='t', complevel=9)\n",
    "    "
   ]
  },
  {
   "cell_type": "code",
   "execution_count": 44,
   "metadata": {},
   "outputs": [
    {
     "data": {
      "text/plain": [
       "(260654, 97)"
      ]
     },
     "execution_count": 44,
     "metadata": {},
     "output_type": "execute_result"
    }
   ],
   "source": [
    "df.shape"
   ]
  },
  {
   "cell_type": "markdown",
   "metadata": {},
   "source": [
    "## Write Functions"
   ]
  },
  {
   "cell_type": "code",
   "execution_count": 16,
   "metadata": {},
   "outputs": [
    {
     "name": "stdout",
     "output_type": "stream",
     "text": [
      "63.54519581794739\n"
     ]
    }
   ],
   "source": [
    "start_t = time.time()\n",
    "with open(os.path.join(data_folder, 'monthly_data1_time_Q12005_np.pickle'), 'wb') as handle:\n",
    "    pickle.dump(monthly_data_temp, handle)\n",
    "end_t = time.time()\n",
    "print(end_t - start_t)"
   ]
  },
  {
   "cell_type": "code",
   "execution_count": 15,
   "metadata": {},
   "outputs": [
    {
     "name": "stdout",
     "output_type": "stream",
     "text": [
      "1.0314583778381348\n"
     ]
    }
   ],
   "source": [
    "start_t = time.time()\n",
    "with open(os.path.join(data_folder, 'loan_data1_time_Q12005_np.pickle'), 'wb') as handle:\n",
    "    pickle.dump(loan_data, handle)\n",
    "end_t = time.time()\n",
    "print(end_t - start_t)"
   ]
  },
  {
   "cell_type": "code",
   "execution_count": null,
   "metadata": {},
   "outputs": [],
   "source": [
    "start_t = time.time()\n",
    "with open(os.path.join(data_folder, 'lookup1_time_Q12005.pickle'), 'wb') as handle:\n",
    "    pickle.dump(lookup_table, handle)\n",
    "end_t = time.time()\n",
    "print(end_t - start_t)"
   ]
  },
  {
   "cell_type": "code",
   "execution_count": null,
   "metadata": {},
   "outputs": [],
   "source": [
    "# %time monthly_data.to_hdf(os.path.join(data_folder, 'monthly_data1_time_Q12005.h5'), key='monthly_data')"
   ]
  },
  {
   "cell_type": "code",
   "execution_count": null,
   "metadata": {},
   "outputs": [],
   "source": [
    "# import h5py"
   ]
  },
  {
   "cell_type": "code",
   "execution_count": null,
   "metadata": {},
   "outputs": [],
   "source": [
    "# h5f = h5py.File(os.path.join(data_folder, 'monthly_data1_time_Q12005.h5'), 'w')\n",
    "# h5f.create_dataset('dataset_1', data=)"
   ]
  },
  {
   "cell_type": "code",
   "execution_count": 2,
   "metadata": {},
   "outputs": [
    {
     "data": {
      "text/plain": [
       "array([[3, 4, 3],\n",
       "       [1, 2, 4],\n",
       "       [0, 9, 5],\n",
       "       [5, 8, 7],\n",
       "       [6, 1, 6],\n",
       "       [0, 1, 2]])"
      ]
     },
     "execution_count": 2,
     "metadata": {},
     "output_type": "execute_result"
    }
   ],
   "source": [
    "a= [[3,4,3], [1,2,4], [0,9,5], [5,8,7], [6,1,6], [0,1,2]]\n",
    "a = np.array(a)\n",
    "a"
   ]
  },
  {
   "cell_type": "code",
   "execution_count": 4,
   "metadata": {},
   "outputs": [
    {
     "data": {
      "text/plain": [
       "array([[3, 4, 3],\n",
       "       [0, 9, 5],\n",
       "       [0, 1, 2]])"
      ]
     },
     "execution_count": 4,
     "metadata": {},
     "output_type": "execute_result"
    }
   ],
   "source": [
    "np.delete(a, [1,3,4], 0)"
   ]
  },
  {
   "cell_type": "code",
   "execution_count": 8,
   "metadata": {},
   "outputs": [
    {
     "data": {
      "text/plain": [
       "[3, 1, 8, 7, 0, 0]"
      ]
     },
     "execution_count": 8,
     "metadata": {},
     "output_type": "execute_result"
    }
   ],
   "source": [
    "list(a[:, 1] - 1)"
   ]
  },
  {
   "cell_type": "code",
   "execution_count": null,
   "metadata": {},
   "outputs": [],
   "source": []
  }
 ],
 "metadata": {
  "kernelspec": {
   "display_name": "Python 3",
   "language": "python",
   "name": "python3"
  },
  "language_info": {
   "codemirror_mode": {
    "name": "ipython",
    "version": 3
   },
   "file_extension": ".py",
   "mimetype": "text/x-python",
   "name": "python",
   "nbconvert_exporter": "python",
   "pygments_lexer": "ipython3",
   "version": "3.6.5"
  }
 },
 "nbformat": 4,
 "nbformat_minor": 2
}
