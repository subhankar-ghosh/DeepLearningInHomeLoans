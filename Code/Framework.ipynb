{
 "cells": [
  {
   "cell_type": "code",
   "execution_count": 1,
   "metadata": {},
   "outputs": [
    {
     "name": "stderr",
     "output_type": "stream",
     "text": [
      "/home/subhankar/.conda/envs/pytorch/lib/python3.7/site-packages/sklearn/utils/__init__.py:4: DeprecationWarning: Using or importing the ABCs from 'collections' instead of from 'collections.abc' is deprecated, and in 3.8 it will stop working\n",
      "  from collections import Sequence\n"
     ]
    }
   ],
   "source": [
    "# import h5py\n",
    "import config\n",
    "import matplotlib.pyplot as plt\n",
    "from Models import FeedForward, LSTMPredictor, BatchOneLayerLSTM\n",
    "from ModelTrainer import ModelTrainer\n",
    "import numpy as np\n",
    "import os\n",
    "import pandas as pd\n",
    "import pickle\n",
    "import random\n",
    "import time\n",
    "import torch\n",
    "import torch.nn as nn\n",
    "import torch.nn.init as init\n",
    "from torch.autograd import Variable\n",
    "from sklearn.metrics import confusion_matrix\n",
    "from sklearn.metrics import roc_auc_score\n",
    "from sklearn.metrics import precision_recall_curve, roc_curve"
   ]
  },
  {
   "cell_type": "code",
   "execution_count": null,
   "metadata": {},
   "outputs": [],
   "source": []
  },
  {
   "cell_type": "code",
   "execution_count": 2,
   "metadata": {},
   "outputs": [],
   "source": [
    "# hdf_file_path: Loan_Data\n",
    "key_len = 1635\n",
    "random.seed = 448\n",
    "indices = [i for i in range(key_len)]\n",
    "\n",
    "train_lim = int(0.7*key_len)\n",
    "test_lim = train_lim + int(0.25*key_len)\n",
    "valid_lim = test_lim + int((1 - train_lim - test_lim)*key_len)\n",
    "train, test, valid = indices[:train_lim], indices[train_lim: test_lim], indices[test_lim:]"
   ]
  },
  {
   "cell_type": "code",
   "execution_count": 3,
   "metadata": {},
   "outputs": [
    {
     "data": {
      "text/plain": [
       "(1144, 408, 83)"
      ]
     },
     "execution_count": 3,
     "metadata": {},
     "output_type": "execute_result"
    }
   ],
   "source": [
    "len(train), len(test), len(valid)"
   ]
  },
  {
   "cell_type": "code",
   "execution_count": null,
   "metadata": {},
   "outputs": [],
   "source": [
    "# Model Parameters\n",
    "INPUT_SIZE = 110\n",
    "HIDDEN_LAYER1 = 70\n",
    "HIDDEN_LAYER2 = 55\n",
    "NUM_CLASSES = len(config.unique_values['current_status']) # 45\n",
    "# Training paramters\n",
    "LEARNING_RATE = 0.001\n",
    "NUM_EPOCHS = 2\n",
    "CONCERNED_CLASS = 1\n",
    "DATA_FILE = 'Loan_Data.h5'"
   ]
  },
  {
   "cell_type": "code",
   "execution_count": null,
   "metadata": {},
   "outputs": [],
   "source": [
    "model = FeedForward(INPUT_SIZE, HIDDEN_LAYER1, HIDDEN_LAYER2, NUM_CLASSES)"
   ]
  },
  {
   "cell_type": "code",
   "execution_count": null,
   "metadata": {},
   "outputs": [],
   "source": [
    "trainer = ModelTrainer(model, LEARNING_RATE, NUM_EPOCHS, CONCERNED_CLASS, DATA_FILE)"
   ]
  },
  {
   "cell_type": "code",
   "execution_count": null,
   "metadata": {},
   "outputs": [],
   "source": [
    "trainer.trainFF(train, test)"
   ]
  },
  {
   "cell_type": "code",
   "execution_count": null,
   "metadata": {},
   "outputs": [],
   "source": [
    "torch.cuda.is_available()"
   ]
  },
  {
   "cell_type": "code",
   "execution_count": null,
   "metadata": {},
   "outputs": [],
   "source": [
    "trainer.training_auc"
   ]
  },
  {
   "cell_type": "code",
   "execution_count": null,
   "metadata": {},
   "outputs": [],
   "source": [
    "trainer.test_auc"
   ]
  },
  {
   "cell_type": "code",
   "execution_count": null,
   "metadata": {},
   "outputs": [],
   "source": [
    "trainer.loss_values"
   ]
  },
  {
   "cell_type": "code",
   "execution_count": null,
   "metadata": {},
   "outputs": [],
   "source": [
    "trainer.training_accuracy"
   ]
  },
  {
   "cell_type": "code",
   "execution_count": null,
   "metadata": {},
   "outputs": [],
   "source": [
    "trainer.loss_values"
   ]
  },
  {
   "cell_type": "code",
   "execution_count": null,
   "metadata": {},
   "outputs": [],
   "source": []
  },
  {
   "cell_type": "markdown",
   "metadata": {},
   "source": [
    "### LSTM"
   ]
  },
  {
   "cell_type": "code",
   "execution_count": 4,
   "metadata": {},
   "outputs": [],
   "source": [
    "# hdf_file_path: Loan_Data\n",
    "key_len = 1635\n",
    "random.seed = 448\n",
    "rand_ind = random.sample([i for i in range(key_len)], key_len)\n",
    "\n",
    "train_lim = int(0.7*key_len)\n",
    "test_lim = train_lim + int(0.25*key_len)\n",
    "valid_lim = test_lim + int((1 - train_lim - test_lim)*key_len)\n",
    "train, test, valid = rand_ind[:train_lim], rand_ind[train_lim: test_lim], rand_ind[test_lim:]"
   ]
  },
  {
   "cell_type": "code",
   "execution_count": 10,
   "metadata": {},
   "outputs": [],
   "source": [
    "# Model Parameters\n",
    "INPUT_DIM = 110\n",
    "HIDDEN_DIM = 128\n",
    "NUM_EPOCHS = 2\n",
    "CONCERNED_CLASS = 43\n",
    "NUM_CLASS = len(config.unique_values['current_status'])\n",
    "device = torch.device('cuda' if torch.cuda.is_available() else 'cpu')\n",
    "# Training paramters\n",
    "LEARNING_RATE = 0.001\n",
    "NUM_EPOCHS = 1\n",
    "CONCERNED_CLASS = 1\n",
    "DATA_FILE = 'Loan_Data.h5'"
   ]
  },
  {
   "cell_type": "code",
   "execution_count": 11,
   "metadata": {},
   "outputs": [],
   "source": [
    "model = BatchOneLayerLSTM(INPUT_DIM, HIDDEN_DIM, NUM_CLASS, device)"
   ]
  },
  {
   "cell_type": "code",
   "execution_count": 12,
   "metadata": {},
   "outputs": [],
   "source": [
    "trainer = ModelTrainer(model, LEARNING_RATE, NUM_EPOCHS, CONCERNED_CLASS, DATA_FILE, device)"
   ]
  },
  {
   "cell_type": "code",
   "execution_count": 13,
   "metadata": {},
   "outputs": [
    {
     "name": "stdout",
     "output_type": "stream",
     "text": [
      "tensor(12.1032, grad_fn=<NormBackward0>)\n",
      "tensor(13.0444, grad_fn=<NormBackward0>)\n",
      "tensor(1.1312, grad_fn=<NormBackward0>)\n",
      "tensor(1.1611, grad_fn=<NormBackward0>)\n",
      "tensor(3.8951, grad_fn=<NormBackward0>)\n",
      "tensor(0.3693, grad_fn=<NormBackward0>)\n"
     ]
    }
   ],
   "source": [
    "for i in list(model.parameters()):\n",
    "    print(torch.norm(i))"
   ]
  },
  {
   "cell_type": "code",
   "execution_count": null,
   "metadata": {},
   "outputs": [
    {
     "name": "stderr",
     "output_type": "stream",
     "text": [
      "/home/subhankar/d/GitHub/IndependentStudy/Code/DataGen.py:31: FutureWarning: specifying 'categories' or 'ordered' in .astype() is deprecated; pass a CategoricalDtype instead\n",
      "  df.current_status = df.current_status.astype('category', categories=config.unique_values['current_status'])\n",
      "/home/subhankar/d/GitHub/IndependentStudy/Code/DataGen.py:34: FutureWarning: specifying 'categories' or 'ordered' in .astype() is deprecated; pass a CategoricalDtype instead\n",
      "  df.state = df.state.astype('category', categories=config.unique_values['unique_states'])\n",
      "/home/subhankar/d/GitHub/IndependentStudy/Code/ModelTrainer.py:141: UserWarning: Implicit dimension choice for log_softmax has been deprecated. Change the call to include dim=X as an argument.\n",
      "  auc = self.GetAUCScore(y_true, F.log_softmax(outputs).data.cpu().numpy(), self.concerned_class)\n"
     ]
    },
    {
     "name": "stdout",
     "output_type": "stream",
     "text": [
      "Epoch: [1/1], Step: [1/1144], Loss: 2.1432, Roc: 0.4811\n",
      "Epoch: [1/1], Step: [101/1144], Loss: 0.0336, Roc: 0.4977\n",
      "Epoch: [1/1], Step: [201/1144], Loss: 0.0226, Roc: 0.4958\n",
      "Epoch: [1/1], Step: [301/1144], Loss: 0.0196, Roc: 0.4952\n"
     ]
    }
   ],
   "source": [
    "trainer.trainLSTM(train, test)"
   ]
  },
  {
   "cell_type": "code",
   "execution_count": null,
   "metadata": {},
   "outputs": [],
   "source": [
    "trainer.training_auc"
   ]
  },
  {
   "cell_type": "code",
   "execution_count": null,
   "metadata": {},
   "outputs": [],
   "source": [
    "trainer.test_auc"
   ]
  },
  {
   "cell_type": "code",
   "execution_count": null,
   "metadata": {},
   "outputs": [],
   "source": [
    "trainer.loss_values"
   ]
  }
 ],
 "metadata": {
  "kernelspec": {
   "display_name": "Python 3",
   "language": "python",
   "name": "python3"
  },
  "language_info": {
   "codemirror_mode": {
    "name": "ipython",
    "version": 3
   },
   "file_extension": ".py",
   "mimetype": "text/x-python",
   "name": "python",
   "nbconvert_exporter": "python",
   "pygments_lexer": "ipython3",
   "version": "3.7.0"
  }
 },
 "nbformat": 4,
 "nbformat_minor": 2
}
