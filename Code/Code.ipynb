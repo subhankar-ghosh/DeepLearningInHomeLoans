{
 "cells": [
  {
   "cell_type": "raw",
   "metadata": {},
   "source": [
    "import torchvision as vision\n",
    "import torch\n",
    "\n",
    "#Download one image\n",
    "from PIL import Image\n",
    "pil_im2 = Image.open(\"C:/Users/Sreekanth/Box/Machine Learning to Detect Fertilizer Adulteration/DAP/5 scoop clean DAP/IMG_5342.JPG\")\n",
    "\n",
    "\n",
    "#Converting into a tensor object\n",
    "toPIL = vision.transforms.ToPILImage()\n",
    "toTensor = vision.transforms.ToTensor()\n",
    "tensor_pil = toTensor(pil_im2)\n",
    "\n",
    "#Cropping it into an image of your choice\n",
    "rc = vision.transforms.RandomCrop(256,256)\n",
    "\n",
    "\n",
    "out = toTensor(rc(toPIL(tensor_pil)))\n",
    "print(out.size())"
   ]
  },
  {
   "cell_type": "code",
   "execution_count": 1,
   "metadata": {},
   "outputs": [],
   "source": [
    "#Import the relavent libraries\n",
    "from skimage import io\n",
    "from matplotlib import pyplot as plt\n",
    "from skimage import transform\n",
    "import numpy as np\n",
    "import glob\n"
   ]
  },
  {
   "cell_type": "code",
   "execution_count": 11,
   "metadata": {},
   "outputs": [
    {
     "data": {
      "text/plain": [
       "359.5247305499183"
      ]
     },
     "execution_count": 11,
     "metadata": {},
     "output_type": "execute_result"
    }
   ],
   "source": [
    "np.mean(np.array([3948.55615234375, 161.78720092773438, 24.328554153442383, 62.527854919433594, 334.03240966796875, 134.86416625976562, 261.0767822265625, 18.488121032714844, 179.734130859375, 348.1250915527344, 36.1142463684082, 4.130055904388428, 20.863130569458008, 213.91796875, 167.21546936035156, 379.47796630859375, 17.524925231933594, 158.68092346191406]))"
   ]
  },
  {
   "cell_type": "code",
   "execution_count": 9,
   "metadata": {},
   "outputs": [],
   "source": [
    "class create_train_test():\n",
    "    def __init__(self, n,m,k):\n",
    " \n",
    "        self.n = n\n",
    "        self.m = m\n",
    "        self.k = k\n",
    "        \n",
    " \n",
    "        \n",
    "    def create_array(self, file_location):\n",
    "       \n",
    "        arr = np.empty((1, self.n*self.m*self.k), int)\n",
    "        for filename in glob.glob(file_location):\n",
    "            img = io.imread(filename)\n",
    "            img1 = transform.resize(img, (self.n, self.m), mode='reflect')\n",
    "            nparray_im = np.array(img1).reshape(1,-1)\n",
    "            arr = np.append(arr, nparray_im, axis=0)\n",
    "        \n",
    "        return arr"
   ]
  },
  {
   "cell_type": "code",
   "execution_count": 10,
   "metadata": {},
   "outputs": [],
   "source": [
    "\n",
    "link_class1 = \"C:/Users/Sreekanth/Box/Machine Learning to Detect Fertilizer Adulteration/DAP/5 scoop clean DAP/*.JPG\"\n",
    "link_1s_con = \"C:/Users/Sreekanth/Box/Machine Learning to Detect Fertilizer Adulteration/DAP/5 scoop DAP 1 scoop concrete/*.JPG\"\n",
    "link_1s_san = \"C:/Users/Sreekanth/Box/Machine Learning to Detect Fertilizer Adulteration/DAP/5 scoop DAP 1 scoop sand/*.JPG\"\n",
    "link_2s_con = \"C:/Users/Sreekanth/Box/Machine Learning to Detect Fertilizer Adulteration/DAP/5 scoop DAP 2 scoop concrete/*.JPG\"\n",
    "link_2s_san = \"C:/Users/Sreekanth/Box/Machine Learning to Detect Fertilizer Adulteration/DAP/5 scoop DAP 2 scoop sand/*.JPG\"\n",
    "link_3s_con = \"C:/Users/Sreekanth/Box/Machine Learning to Detect Fertilizer Adulteration/DAP/5 scoop DAP 3 scoop concrete/*.JPG\"\n",
    "link_3s_san = \"C:/Users/Sreekanth/Box/Machine Learning to Detect Fertilizer Adulteration/DAP/5 scoop DAP 3 scoop sand/*.JPG\"\n",
    "link_4s_con = \"C:/Users/Sreekanth/Box/Machine Learning to Detect Fertilizer Adulteration/DAP/5 scoop DAP 4 scoop concrete/*.JPG\"\n",
    "link_4s_san = \"C:/Users/Sreekanth/Box/Machine Learning to Detect Fertilizer Adulteration/DAP/5 scoop DAP 4 scoop sand/*.JPG\"\n",
    "link_5s_con = \"C:/Users/Sreekanth/Box/Machine Learning to Detect Fertilizer Adulteration/DAP/5 scoop DAP 5 scoop concrete/*.JPG\"\n",
    "link_5s_san = \"C:/Users/Sreekanth/Box/Machine Learning to Detect Fertilizer Adulteration/DAP/5 scoop DAP 5 scoop sand/*.JPG\"\n",
    "create_train_test = create_train_test(256, 256, 3)"
   ]
  },
  {
   "cell_type": "code",
   "execution_count": 16,
   "metadata": {},
   "outputs": [],
   "source": [
    "class1_data = create_train_test.create_array(link_class1)"
   ]
  },
  {
   "cell_type": "code",
   "execution_count": 7,
   "metadata": {},
   "outputs": [
    {
     "ename": "NameError",
     "evalue": "name 'link_5s_san' is not defined",
     "output_type": "error",
     "traceback": [
      "\u001b[1;31m---------------------------------------------------------------------------\u001b[0m",
      "\u001b[1;31mNameError\u001b[0m                                 Traceback (most recent call last)",
      "\u001b[1;32m<ipython-input-7-de807912e675>\u001b[0m in \u001b[0;36m<module>\u001b[1;34m()\u001b[0m\n\u001b[0;32m      8\u001b[0m \u001b[0mclass2_4s_san\u001b[0m \u001b[1;33m=\u001b[0m \u001b[0mcreate_train_test\u001b[0m\u001b[1;33m.\u001b[0m\u001b[0mcreate_array\u001b[0m\u001b[1;33m(\u001b[0m\u001b[0mlink_4s_san\u001b[0m\u001b[1;33m)\u001b[0m\u001b[1;33m\u001b[0m\u001b[0m\n\u001b[0;32m      9\u001b[0m \u001b[0mclass2_5s_con\u001b[0m \u001b[1;33m=\u001b[0m \u001b[0mcreate_train_test\u001b[0m\u001b[1;33m.\u001b[0m\u001b[0mcreate_array\u001b[0m\u001b[1;33m(\u001b[0m\u001b[0mlink_5s_con\u001b[0m\u001b[1;33m)\u001b[0m\u001b[1;33m\u001b[0m\u001b[0m\n\u001b[1;32m---> 10\u001b[1;33m \u001b[0mclass2_5s_san\u001b[0m \u001b[1;33m=\u001b[0m \u001b[0mcreate_train_test\u001b[0m\u001b[1;33m.\u001b[0m\u001b[0mcreate_array\u001b[0m\u001b[1;33m(\u001b[0m\u001b[0mlink_5s_san\u001b[0m\u001b[1;33m)\u001b[0m\u001b[1;33m\u001b[0m\u001b[0m\n\u001b[0m",
      "\u001b[1;31mNameError\u001b[0m: name 'link_5s_san' is not defined"
     ]
    }
   ],
   "source": [
    "class2_1s_con = create_train_test.create_array(link_1s_con)\n",
    "class2_1s_san = create_train_test.create_array(link_1s_san)\n",
    "class2_2s_con = create_train_test.create_array(link_2s_con)\n",
    "class2_2s_san = create_train_test.create_array(link_2s_san)\n",
    "class2_3s_con = create_train_test.create_array(link_3s_con)\n",
    "class2_3s_san = create_train_test.create_array(link_3s_san)\n",
    "class2_4s_con = create_train_test.create_array(link_4s_con)\n",
    "class2_4s_san = create_train_test.create_array(link_4s_san)\n",
    "class2_5s_con = create_train_test.create_array(link_5s_con)\n",
    "class2_5s_san = create_train_test.create_array(link_5s_san)"
   ]
  },
  {
   "cell_type": "code",
   "execution_count": 17,
   "metadata": {
    "collapsed": true
   },
   "outputs": [],
   "source": [
    "#Concatenating all the class2 datasets\n",
    "class2_data = np.concatenate((class2_1s_con, class2_1s_san, class2_2s_con, class2_2s_san, class2_3s_con, class2_3s_san,\n",
    "                             class2_4s_con, class2_4s_san, class2_5s_con, class2_5s_san), axis=0)"
   ]
  },
  {
   "cell_type": "code",
   "execution_count": 36,
   "metadata": {},
   "outputs": [],
   "source": [
    "#Creating labels for class1 and class 2\n",
    "class2_response = np.ones(class2_data.shape[0])\n",
    "class1_response = np.zeros(class1_data.shape[0])\n",
    "#Combining class1 and class2 to get a final dataset\n",
    "final_features_dap = np.concatenate((class1_data, class2_data), axis = 0)\n",
    "final_response_dap = np.concatenate((class1_response, class2_response), axis=0)"
   ]
  },
  {
   "cell_type": "code",
   "execution_count": 40,
   "metadata": {},
   "outputs": [],
   "source": [
    "#Creating training and testing datasets\n",
    "x = np.random.rand(100, 5)\n",
    "indices = np.random.permutation(final_features_dap.shape[0])\n",
    "training_idx, test_idx = indices[:500], indices[500:]\n",
    "x_train, x_test = final_features_dap[training_idx,:], final_features_dap[test_idx,:]\n",
    "y_train, y_test = final_response_dap[training_idx], final_response_dap[test_idx]"
   ]
  },
  {
   "cell_type": "code",
   "execution_count": 43,
   "metadata": {},
   "outputs": [
    {
     "data": {
      "text/plain": [
       "array([[ 0.46112132,  0.40719975,  0.33268995, ...,  0.45284926,\n",
       "         0.42539828,  0.36265319],\n",
       "       [ 0.89750306,  0.78769914,  0.7053462 , ...,  0.40788909,\n",
       "         0.39220282,  0.35571385],\n",
       "       [ 0.68670343,  0.65533088,  0.57322304, ...,  0.53674939,\n",
       "         0.50929841,  0.47792586],\n",
       "       ..., \n",
       "       [ 0.72570466,  0.67864583,  0.58452819, ...,  0.85098039,\n",
       "         0.8       ,  0.77647059],\n",
       "       [ 0.79232537,  0.8001685 ,  0.70605086, ...,  0.61227022,\n",
       "         0.59759498,  0.52308517],\n",
       "       [ 0.96144301,  0.93203125,  0.91536458, ...,  0.86014093,\n",
       "         0.85082721,  0.93463542]])"
      ]
     },
     "execution_count": 43,
     "metadata": {},
     "output_type": "execute_result"
    }
   ],
   "source": []
  },
  {
   "cell_type": "code",
   "execution_count": null,
   "metadata": {
    "collapsed": true
   },
   "outputs": [],
   "source": []
  }
 ],
 "metadata": {
  "kernelspec": {
   "display_name": "Python 3",
   "language": "python",
   "name": "python3"
  },
  "language_info": {
   "codemirror_mode": {
    "name": "ipython",
    "version": 3
   },
   "file_extension": ".py",
   "mimetype": "text/x-python",
   "name": "python",
   "nbconvert_exporter": "python",
   "pygments_lexer": "ipython3",
   "version": "3.7.0"
  }
 },
 "nbformat": 4,
 "nbformat_minor": 2
}
