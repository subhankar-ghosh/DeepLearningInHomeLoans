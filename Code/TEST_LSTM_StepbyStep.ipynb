{
 "cells": [
  {
   "cell_type": "code",
   "execution_count": 1,
   "metadata": {},
   "outputs": [],
   "source": [
    "import config\n",
    "from matplotlib.pyplot import figure\n",
    "import pandas as pd\n",
    "import os\n",
    "from Models import FeedForward, FeedForward5, LogisticRegression, LSTMPredictor, BatchOneLayerLSTM, BatchOneLayerGRU\n",
    "import matplotlib.pyplot as plt\n",
    "import numpy as np\n",
    "import random\n",
    "import time\n",
    "import torch\n",
    "from torch.autograd import Variable\n",
    "import torch.nn as nn\n",
    "import torch.nn.init as init\n",
    "import torch.nn.functional as F"
   ]
  },
  {
   "cell_type": "code",
   "execution_count": 13,
   "metadata": {},
   "outputs": [],
   "source": []
  },
  {
   "cell_type": "code",
   "execution_count": 2,
   "metadata": {},
   "outputs": [],
   "source": [
    "pd.set_option('display.max_columns', 500)\n",
    "pd.set_option('display.max_rows', 500)\n",
    "np.set_printoptions(threshold=np.inf, suppress=False, floatmode='fixed')\n",
    "torch.set_printoptions(threshold=5000)"
   ]
  },
  {
   "cell_type": "code",
   "execution_count": 59,
   "metadata": {},
   "outputs": [],
   "source": [
    "hdf_file_path = '../Loan_Data_Test5.h5'\n",
    "t=5\n",
    "device = torch.device('cuda' if torch.cuda.is_available() else 'cpu')"
   ]
  },
  {
   "cell_type": "code",
   "execution_count": 27,
   "metadata": {},
   "outputs": [],
   "source": [
    "df = pd.read_hdf(hdf_file_path, 'X_' + str(t))\n",
    "lookup = pd.read_hdf(hdf_file_path, 'lookup_' + str(t)).values"
   ]
  },
  {
   "cell_type": "code",
   "execution_count": 33,
   "metadata": {},
   "outputs": [],
   "source": [
    "df = df.iloc[lookup[0,1]: lookup[1,2]]\n",
    "lookup = lookup[:2, :]"
   ]
  },
  {
   "cell_type": "code",
   "execution_count": 34,
   "metadata": {},
   "outputs": [
    {
     "name": "stderr",
     "output_type": "stream",
     "text": [
      "/home/subhankar/.conda/envs/pytorch/lib/python3.7/site-packages/ipykernel_launcher.py:8: FutureWarning: specifying 'categories' or 'ordered' in .astype() is deprecated; pass a CategoricalDtype instead\n",
      "  \n",
      "/home/subhankar/.conda/envs/pytorch/lib/python3.7/site-packages/ipykernel_launcher.py:9: FutureWarning: specifying 'categories' or 'ordered' in .astype() is deprecated; pass a CategoricalDtype instead\n",
      "  if __name__ == '__main__':\n"
     ]
    }
   ],
   "source": [
    "df.loc[(df.zero_balance == 1) == True, 'current_status'] = '46'\n",
    "df.current_UPB = pd.to_numeric(df['current_UPB'], errors='coerce')\n",
    "df.mi_recovery = pd.to_numeric(df['mi_recovery'], errors='coerce')\n",
    "df.non_mi_recovery = pd.to_numeric(df['non_mi_recovery'], errors='coerce')\n",
    "df.net_sales_procedees = pd.to_numeric(df['net_sales_procedees'], errors='coerce')\n",
    "df.modification_cost = pd.to_numeric(df['modification_cost'], errors='coerce')\n",
    "df.remaining_month = pd.to_numeric(df['remaining_month'], errors='coerce')\n",
    "df.current_status = df.current_status.astype('category', categories=config.unique_values['current_status'])\n",
    "df.state = df.state.astype('category', categories=config.unique_values['unique_states'])\n",
    "df = pd.get_dummies(df, columns=['state'])"
   ]
  },
  {
   "cell_type": "code",
   "execution_count": 35,
   "metadata": {},
   "outputs": [],
   "source": [
    "X = df[config.column_list['select_columns']].values\n",
    "y = pd.get_dummies(df.current_status).values\n",
    "X[np.isnan(X)]=-1"
   ]
  },
  {
   "cell_type": "code",
   "execution_count": 36,
   "metadata": {},
   "outputs": [
    {
     "data": {
      "text/plain": [
       "((2, 135, 110), (2, 135, 46))"
      ]
     },
     "execution_count": 36,
     "metadata": {},
     "output_type": "execute_result"
    }
   ],
   "source": [
    "batch_data = np.zeros((lookup.shape[0], 135, X.shape[1])) # batch, seq, features\n",
    "batch_labels = -1*np.ones((lookup.shape[0], 135, y.shape[1]))\n",
    "batch_data.shape, batch_labels.shape"
   ]
  },
  {
   "cell_type": "code",
   "execution_count": 39,
   "metadata": {},
   "outputs": [],
   "source": [
    "for ind in range(lookup.shape[0]):\n",
    "    sent = X[ lookup[ind, 1]:lookup[ind, 2], :]\n",
    "    label = y[ lookup[ind, 1]:lookup[ind, 2], :]\n",
    "    curr_len = sent.shape[0]\n",
    "    batch_data[ind, :curr_len, :] = sent\n",
    "    batch_labels[ind, :curr_len, :] = label"
   ]
  },
  {
   "cell_type": "code",
   "execution_count": 62,
   "metadata": {},
   "outputs": [
    {
     "data": {
      "text/plain": [
       "((2, 135, 110), (2, 135, 46))"
      ]
     },
     "execution_count": 62,
     "metadata": {},
     "output_type": "execute_result"
    }
   ],
   "source": [
    "X = batch_data\n",
    "y_true = batch_labels\n",
    "batch_data.shape, batch_labels.shape"
   ]
  },
  {
   "cell_type": "markdown",
   "metadata": {},
   "source": [
    "**Training**"
   ]
  },
  {
   "cell_type": "code",
   "execution_count": 89,
   "metadata": {},
   "outputs": [
    {
     "name": "stdout",
     "output_type": "stream",
     "text": [
      "LSTM Model with  128  hidden units  110  input dimensions and dropout of  0.3\n"
     ]
    },
    {
     "name": "stderr",
     "output_type": "stream",
     "text": [
      "/home/subhankar/.conda/envs/pytorch/lib/python3.7/site-packages/torch/nn/modules/rnn.py:38: UserWarning: dropout option adds dropout after all but last recurrent layer, so non-zero dropout expects num_layers greater than 1, but got dropout=0.3 and num_layers=1\n",
      "  \"num_layers={}\".format(dropout, num_layers))\n"
     ]
    }
   ],
   "source": [
    "input_size = 110\n",
    "num_classes = len(config.unique_values['current_status'])\n",
    "learning_rate = 0.001\n",
    "criterion = nn.NLLLoss(ignore_index = -1) # nn.CrossEntropyLoss()\n",
    "# self.criterion_lstm = nn.CrossEntropyLoss(ignore_index = -1)  \n",
    "criterion_lstm = nn.NLLLoss(ignore_index = -1)\n",
    "model = BatchOneLayerLSTM(input_size, 128, num_classes, device)\n",
    "optimizer = torch.optim.RMSprop(model.parameters(), lr=learning_rate)  \n",
    "num_epochs = 5\n",
    "training_accuracy = np.zeros(shape=(num_epochs, 1))\n",
    "test_accuracy = np.zeros(shape=(num_epochs, 1))\n",
    "training_auc = np.zeros(shape=(num_epochs, 1))\n",
    "test_auc = np.zeros(shape=(num_epochs, 1))\n",
    "test_loss = []\n",
    "loss_values = []\n",
    "concerned_class = 43\n",
    "data_file_name_train = '../Loan_Data_Test5.h5'\n",
    "data_file_name_test = '../Loan_Data_Test5.h5'\n",
    "model = model.to(device)"
   ]
  },
  {
   "cell_type": "code",
   "execution_count": 118,
   "metadata": {},
   "outputs": [
    {
     "name": "stderr",
     "output_type": "stream",
     "text": [
      "/home/subhankar/.conda/envs/pytorch/lib/python3.7/site-packages/ipykernel_launcher.py:20: RuntimeWarning: invalid value encountered in double_scalars\n"
     ]
    }
   ],
   "source": [
    "inputs = Variable(torch.FloatTensor(X).to(device))\n",
    "y = np.argmax(y_true, axis=2)\n",
    "y[y_true[:, :, 0] == -1] = -1\n",
    "y_oh = Variable(torch.LongTensor(y.reshape(y.shape[0]*y.shape[1])).to(device))\n",
    "optimizer.zero_grad()\n",
    "outputs = model(inputs)\n",
    "loss = criterion_lstm(outputs, y_oh)\n",
    "loss.backward()\n",
    "optimizer.step()\n",
    "auc = GetAUCScore(y_true, outputs.data.cpu().numpy(), concerned_class, save_results=True)"
   ]
  },
  {
   "cell_type": "code",
   "execution_count": 116,
   "metadata": {},
   "outputs": [],
   "source": [
    "def accumulate_truth(iterable):\n",
    "    true = 0\n",
    "    false = 0\n",
    "    for i in iterable:\n",
    "        if i:\n",
    "            true += 1\n",
    "        else:\n",
    "            false += 1\n",
    "        yield true, false\n",
    "\n",
    "\n",
    "def home_made_ROC(scores, targets):\n",
    "    total_targets = sum(targets)\n",
    "    length_sub_targets = len(targets) - total_targets\n",
    "\n",
    "    scores, targets = zip(*sorted(zip(scores, targets), reverse=True))\n",
    "    tprs = []\n",
    "    fprs = []\n",
    "    for true, false in accumulate_truth(targets):\n",
    "        tprs.append(true / total_targets)\n",
    "        fprs.append(false / length_sub_targets)\n",
    "    return tprs, fprs\n",
    "\n",
    "\n",
    "def home_made_AUC(TPR, FPR):\n",
    "    dFPR = np.zeros(len(FPR))\n",
    "    dTPR = np.zeros(len(TPR))\n",
    "    dFPR[:-1] = np.diff(FPR)\n",
    "    dTPR[:-1] = np.diff(TPR)\n",
    "    auc_val = np.sum(TPR * dFPR) + (np.sum(dTPR * dFPR)/2)\n",
    "    if np.isnan(auc_val):\n",
    "        return 0\n",
    "    return auc_val\n",
    "\n",
    "\n",
    "def GetAUCScore(y_actual, predicted_score, concerned_class, is_transition=False, save_results=False):\n",
    "    ### y_actual: one hot encoding of all classes. np array of shape n x num_of_classes\n",
    "    ### predicted_score: np array of shape n x num_of_classes containing probabilities\n",
    "    ### PrintMatrix(predicted_score)\n",
    "    # print(np.min(predicted_score), np.max(predicted_score))\n",
    "    try:\n",
    "    # print(predicted_score[:100, 0])\n",
    "    # print('#################################')\n",
    "    # print('########## class 0 #################')\n",
    "    # print('#################################')\n",
    "        if is_transition:\n",
    "            ii = np.where(y_actual[:, 0] == 1)[0]\n",
    "            ii = ii + 1\n",
    "            ii = ii[ii < y_actual.shape[0]]\n",
    "            y_actual = y_actual[ii, :]\n",
    "            predicted_score = predicted_score[ii, :]\n",
    "        predicted_score = predicted_score[:, concerned_class]\n",
    "        y_actual = y_actual[:, concerned_class]\n",
    "        valid_index = (y_actual != -1)\n",
    "        y_actual = y_actual[valid_index]\n",
    "        # print('Number of positive samples: ', np.sum(y_actual), 'total: ', y_actual.shape)\n",
    "        # y_actual = y_actual[:, concerned_class]\n",
    "        predicted_score = predicted_score[valid_index]\n",
    "        if save_results:\n",
    "            res = np.vstack((y_actual, predicted_score))\n",
    "            np.save('res_'+str(concerned_class)+'_'+str(random.randint(0, 10000))+'.npy', res)\n",
    "        # print(roc_auc_score(y_actual, predicted_score), y_actual[y_actual == 1].shape, y_actual.shape)\n",
    "#         print(y_actual[:100])\n",
    "#         print('#################################')\n",
    "#         print('########### actual class 1 ###############')\n",
    "#         print('#################################')\n",
    "#         print(predicted_score[:100,])\n",
    "#         print('#################################')\n",
    "#         print('############ class 1 ############')\n",
    "#         print('#################################')\n",
    "        tprs, fprs = home_made_ROC(predicted_score, y_actual)\n",
    "        return home_made_AUC(tprs, fprs)\n",
    "        # return roc_auc_score(y_actual, predicted_score)\n",
    "    except Exception as e:\n",
    "        print(\"Error\", e)\n",
    "        # print(predicted_score)\n",
    "        return 0\n"
   ]
  },
  {
   "cell_type": "code",
   "execution_count": 81,
   "metadata": {},
   "outputs": [
    {
     "data": {
      "text/plain": [
       "(2, 25332)"
      ]
     },
     "execution_count": 81,
     "metadata": {},
     "output_type": "execute_result"
    }
   ],
   "source": [
    "res.shape"
   ]
  },
  {
   "cell_type": "code",
   "execution_count": 97,
   "metadata": {},
   "outputs": [
    {
     "data": {
      "image/png": "[encoded data removed]",
      "text/plain": [
       "<Figure size 800x480 with 1 Axes>"
      ]
     },
     "metadata": {
      "needs_background": "light"
     },
     "output_type": "display_data"
    }
   ],
   "source": [
    "figure(num=None, figsize=(10, 6), dpi=80)\n",
    "res = np.load('./ResultLR/res_43_4901.npy')\n",
    "num = res.shape[1]//2\n",
    "actual = res[0, :]\n",
    "prob = res[1, :]\n",
    "act = plt.plot(actual, 'bo')\n",
    "pr = plt.plot(np.exp(prob), 'r.')\n",
    "lns = act + pr\n",
    "labels = ['actual', 'predicted probability']\n",
    "plt.legend(lns, labels, loc='upper right', bbox_to_anchor=(1.31, 1-0.05))\n",
    "plt.title('Logistic regression : Prepayment plot')\n",
    "plt.savefig('LR5.png')\n",
    "plt.show()"
   ]
  },
  {
   "cell_type": "code",
   "execution_count": null,
   "metadata": {},
   "outputs": [],
   "source": []
  }
 ],
 "metadata": {
  "kernelspec": {
   "display_name": "Python 3",
   "language": "python",
   "name": "python3"
  },
  "language_info": {
   "codemirror_mode": {
    "name": "ipython",
    "version": 3
   },
   "file_extension": ".py",
   "mimetype": "text/x-python",
   "name": "python",
   "nbconvert_exporter": "python",
   "pygments_lexer": "ipython3",
   "version": "3.6.6"
  }
 },
 "nbformat": 4,
 "nbformat_minor": 2
}
